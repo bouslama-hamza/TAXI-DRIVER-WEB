{
 "cells": [
  {
   "cell_type": "code",
   "execution_count": 1,
   "metadata": {},
   "outputs": [],
   "source": []
  },
  {
   "cell_type": "code",
   "execution_count": 2,
   "metadata": {},
   "outputs": [],
   "source": [
    "db = pd.read_csv(\"test.csv\")"
   ]
  },
  {
   "cell_type": "code",
   "execution_count": 11,
   "metadata": {},
   "outputs": [
    {
     "data": {
      "text/html": [
       "<div>\n",
       "<style scoped>\n",
       "    .dataframe tbody tr th:only-of-type {\n",
       "        vertical-align: middle;\n",
       "    }\n",
       "\n",
       "    .dataframe tbody tr th {\n",
       "        vertical-align: top;\n",
       "    }\n",
       "\n",
       "    .dataframe thead th {\n",
       "        text-align: right;\n",
       "    }\n",
       "</style>\n",
       "<table border=\"1\" class=\"dataframe\">\n",
       "  <thead>\n",
       "    <tr style=\"text-align: right;\">\n",
       "      <th></th>\n",
       "      <th>date</th>\n",
       "      <th>hour</th>\n",
       "      <th>type</th>\n",
       "      <th>confidence</th>\n",
       "      <th>status</th>\n",
       "    </tr>\n",
       "  </thead>\n",
       "  <tbody>\n",
       "    <tr>\n",
       "      <th>0</th>\n",
       "      <td>16 May 2022</td>\n",
       "      <td>06 : 15 AM</td>\n",
       "      <td>TAXI DRIVER</td>\n",
       "      <td>0.76%</td>\n",
       "      <td>New Detection</td>\n",
       "    </tr>\n",
       "    <tr>\n",
       "      <th>1</th>\n",
       "      <td>16 May 2022</td>\n",
       "      <td>06 : 23 AM</td>\n",
       "      <td>TAXI DRIVER</td>\n",
       "      <td>0.76%</td>\n",
       "      <td>Passed Detection</td>\n",
       "    </tr>\n",
       "    <tr>\n",
       "      <th>2</th>\n",
       "      <td>16 May 2022</td>\n",
       "      <td>06 : 24 AM</td>\n",
       "      <td>TAXI DRIVER</td>\n",
       "      <td>0.76%</td>\n",
       "      <td>New Detection</td>\n",
       "    </tr>\n",
       "    <tr>\n",
       "      <th>3</th>\n",
       "      <td>18 May 2022</td>\n",
       "      <td>08 : 35 am</td>\n",
       "      <td>TAXI DRIVER</td>\n",
       "      <td>0.85%</td>\n",
       "      <td>Passed Detection</td>\n",
       "    </tr>\n",
       "    <tr>\n",
       "      <th>4</th>\n",
       "      <td>19 May 2022</td>\n",
       "      <td>03 : 54 am</td>\n",
       "      <td>TAXI DRIVER</td>\n",
       "      <td>0.81%</td>\n",
       "      <td>Passed Detection</td>\n",
       "    </tr>\n",
       "    <tr>\n",
       "      <th>5</th>\n",
       "      <td>19 May 2022</td>\n",
       "      <td>05 : 39 am</td>\n",
       "      <td>TAXI DRIVER</td>\n",
       "      <td>0.83%</td>\n",
       "      <td>New Detection</td>\n",
       "    </tr>\n",
       "    <tr>\n",
       "      <th>6</th>\n",
       "      <td>19 May 2022</td>\n",
       "      <td>05 : 45 AM</td>\n",
       "      <td>TAXI DRIVER</td>\n",
       "      <td>0.83%</td>\n",
       "      <td>New Detection</td>\n",
       "    </tr>\n",
       "  </tbody>\n",
       "</table>\n",
       "</div>"
      ],
      "text/plain": [
       "          date        hour         type confidence            status\n",
       "0  16 May 2022  06 : 15 AM  TAXI DRIVER      0.76%     New Detection\n",
       "1  16 May 2022  06 : 23 AM  TAXI DRIVER      0.76%  Passed Detection\n",
       "2  16 May 2022  06 : 24 AM  TAXI DRIVER      0.76%     New Detection\n",
       "3  18 May 2022  08 : 35 am  TAXI DRIVER      0.85%  Passed Detection\n",
       "4  19 May 2022  03 : 54 am  TAXI DRIVER      0.81%  Passed Detection\n",
       "5  19 May 2022  05 : 39 am  TAXI DRIVER      0.83%     New Detection\n",
       "6  19 May 2022  05 : 45 AM  TAXI DRIVER      0.83%     New Detection"
      ]
     },
     "execution_count": 11,
     "metadata": {},
     "output_type": "execute_result"
    }
   ],
   "source": [
    "db"
   ]
  },
  {
   "cell_type": "code",
   "execution_count": 14,
   "metadata": {},
   "outputs": [
    {
     "name": "stdout",
     "output_type": "stream",
     "text": [
      "10 May 2022\n",
      "10 May 2022\n",
      "10 May 2022\n"
     ]
    }
   ],
   "source": [
    "for row in db.iterrows():\n",
    "    print(row[1]['date'])"
   ]
  },
  {
   "cell_type": "code",
   "execution_count": 12,
   "metadata": {},
   "outputs": [],
   "source": [
    "latest = db['status'].value_counts()"
   ]
  },
  {
   "cell_type": "code",
   "execution_count": 6,
   "metadata": {},
   "outputs": [
    {
     "data": {
      "text/plain": [
       "Passed Detection    17\n",
       "New Detection        7\n",
       "Name: status, dtype: int64"
      ]
     },
     "execution_count": 6,
     "metadata": {},
     "output_type": "execute_result"
    }
   ],
   "source": [
    "latest"
   ]
  },
  {
   "cell_type": "code",
   "execution_count": 7,
   "metadata": {},
   "outputs": [
    {
     "data": {
      "text/plain": [
       "17"
      ]
     },
     "execution_count": 7,
     "metadata": {},
     "output_type": "execute_result"
    }
   ],
   "source": [
    "latest['Passed Detection']"
   ]
  },
  {
   "cell_type": "code",
   "execution_count": 8,
   "metadata": {},
   "outputs": [
    {
     "data": {
      "text/plain": [
       "7"
      ]
     },
     "execution_count": 8,
     "metadata": {},
     "output_type": "execute_result"
    }
   ],
   "source": [
    "latest['New Detection']"
   ]
  },
  {
   "cell_type": "code",
   "execution_count": 13,
   "metadata": {},
   "outputs": [
    {
     "data": {
      "text/plain": [
       "1"
      ]
     },
     "execution_count": 13,
     "metadata": {},
     "output_type": "execute_result"
    }
   ],
   "source": [
    "latest['New Detection'] - latest['Passed Detection']"
   ]
  },
  {
   "cell_type": "code",
   "execution_count": 24,
   "metadata": {},
   "outputs": [],
   "source": [
    "test = db.iloc[[-1]]['confidence']"
   ]
  },
  {
   "cell_type": "code",
   "execution_count": 28,
   "metadata": {},
   "outputs": [
    {
     "ename": "AttributeError",
     "evalue": "'Series' object has no attribute 'iterrows'",
     "output_type": "error",
     "traceback": [
      "\u001b[0;31m---------------------------------------------------------------------------\u001b[0m",
      "\u001b[0;31mAttributeError\u001b[0m                            Traceback (most recent call last)",
      "\u001b[0;32m<ipython-input-28-825d0ffc6b23>\u001b[0m in \u001b[0;36m<module>\u001b[0;34m\u001b[0m\n\u001b[0;32m----> 1\u001b[0;31m \u001b[0;32mfor\u001b[0m \u001b[0mi\u001b[0m \u001b[0;32min\u001b[0m \u001b[0mtest\u001b[0m\u001b[0;34m.\u001b[0m\u001b[0miterrows\u001b[0m\u001b[0;34m(\u001b[0m\u001b[0;34m)\u001b[0m\u001b[0;34m:\u001b[0m\u001b[0;34m\u001b[0m\u001b[0;34m\u001b[0m\u001b[0m\n\u001b[0m\u001b[1;32m      2\u001b[0m     \u001b[0mprint\u001b[0m\u001b[0;34m(\u001b[0m\u001b[0mi\u001b[0m\u001b[0;34m)\u001b[0m\u001b[0;34m\u001b[0m\u001b[0;34m\u001b[0m\u001b[0m\n",
      "\u001b[0;32m~/.local/lib/python3.8/site-packages/pandas/core/generic.py\u001b[0m in \u001b[0;36m__getattr__\u001b[0;34m(self, name)\u001b[0m\n\u001b[1;32m   5463\u001b[0m             \u001b[0;32mif\u001b[0m \u001b[0mself\u001b[0m\u001b[0;34m.\u001b[0m\u001b[0m_info_axis\u001b[0m\u001b[0;34m.\u001b[0m\u001b[0m_can_hold_identifiers_and_holds_name\u001b[0m\u001b[0;34m(\u001b[0m\u001b[0mname\u001b[0m\u001b[0;34m)\u001b[0m\u001b[0;34m:\u001b[0m\u001b[0;34m\u001b[0m\u001b[0;34m\u001b[0m\u001b[0m\n\u001b[1;32m   5464\u001b[0m                 \u001b[0;32mreturn\u001b[0m \u001b[0mself\u001b[0m\u001b[0;34m[\u001b[0m\u001b[0mname\u001b[0m\u001b[0;34m]\u001b[0m\u001b[0;34m\u001b[0m\u001b[0;34m\u001b[0m\u001b[0m\n\u001b[0;32m-> 5465\u001b[0;31m             \u001b[0;32mreturn\u001b[0m \u001b[0mobject\u001b[0m\u001b[0;34m.\u001b[0m\u001b[0m__getattribute__\u001b[0m\u001b[0;34m(\u001b[0m\u001b[0mself\u001b[0m\u001b[0;34m,\u001b[0m \u001b[0mname\u001b[0m\u001b[0;34m)\u001b[0m\u001b[0;34m\u001b[0m\u001b[0;34m\u001b[0m\u001b[0m\n\u001b[0m\u001b[1;32m   5466\u001b[0m \u001b[0;34m\u001b[0m\u001b[0m\n\u001b[1;32m   5467\u001b[0m     \u001b[0;32mdef\u001b[0m \u001b[0m__setattr__\u001b[0m\u001b[0;34m(\u001b[0m\u001b[0mself\u001b[0m\u001b[0;34m,\u001b[0m \u001b[0mname\u001b[0m\u001b[0;34m:\u001b[0m \u001b[0mstr\u001b[0m\u001b[0;34m,\u001b[0m \u001b[0mvalue\u001b[0m\u001b[0;34m)\u001b[0m \u001b[0;34m->\u001b[0m \u001b[0;32mNone\u001b[0m\u001b[0;34m:\u001b[0m\u001b[0;34m\u001b[0m\u001b[0;34m\u001b[0m\u001b[0m\n",
      "\u001b[0;31mAttributeError\u001b[0m: 'Series' object has no attribute 'iterrows'"
     ]
    }
   ],
   "source": [
    "\n",
    "    "
   ]
  },
  {
   "cell_type": "code",
   "execution_count": 40,
   "metadata": {},
   "outputs": [
    {
     "name": "stdout",
     "output_type": "stream",
     "text": [
      "0.83\n"
     ]
    }
   ],
   "source": [
    "for row in db.iloc[[-1]].iterrows():\n",
    "    print(row[1]['confidence'].split(\"%\")[0])"
   ]
  },
  {
   "cell_type": "code",
   "execution_count": 34,
   "metadata": {},
   "outputs": [
    {
     "ename": "TypeError",
     "evalue": "'generator' object is not subscriptable",
     "output_type": "error",
     "traceback": [
      "\u001b[0;31m---------------------------------------------------------------------------\u001b[0m",
      "\u001b[0;31mTypeError\u001b[0m                                 Traceback (most recent call last)",
      "\u001b[0;32m<ipython-input-34-d5f37dd73019>\u001b[0m in \u001b[0;36m<module>\u001b[0;34m\u001b[0m\n\u001b[0;32m----> 1\u001b[0;31m \u001b[0mdb\u001b[0m\u001b[0;34m.\u001b[0m\u001b[0miloc\u001b[0m\u001b[0;34m[\u001b[0m\u001b[0;34m[\u001b[0m\u001b[0;34m-\u001b[0m\u001b[0;36m1\u001b[0m\u001b[0;34m]\u001b[0m\u001b[0;34m]\u001b[0m\u001b[0;34m.\u001b[0m\u001b[0miterrows\u001b[0m\u001b[0;34m(\u001b[0m\u001b[0;34m)\u001b[0m\u001b[0;34m[\u001b[0m\u001b[0;34m'confidence'\u001b[0m\u001b[0;34m]\u001b[0m\u001b[0;34m\u001b[0m\u001b[0;34m\u001b[0m\u001b[0m\n\u001b[0m",
      "\u001b[0;31mTypeError\u001b[0m: 'generator' object is not subscriptable"
     ]
    }
   ],
   "source": [
    "db.iloc[[-1]].iterrows()['confidence']"
   ]
  },
  {
   "cell_type": "code",
   "execution_count": 36,
   "metadata": {},
   "outputs": [
    {
     "data": {
      "text/html": [
       "<div>\n",
       "<style scoped>\n",
       "    .dataframe tbody tr th:only-of-type {\n",
       "        vertical-align: middle;\n",
       "    }\n",
       "\n",
       "    .dataframe tbody tr th {\n",
       "        vertical-align: top;\n",
       "    }\n",
       "\n",
       "    .dataframe thead th {\n",
       "        text-align: right;\n",
       "    }\n",
       "</style>\n",
       "<table border=\"1\" class=\"dataframe\">\n",
       "  <thead>\n",
       "    <tr style=\"text-align: right;\">\n",
       "      <th></th>\n",
       "      <th>date</th>\n",
       "      <th>hour</th>\n",
       "      <th>type</th>\n",
       "      <th>confidence</th>\n",
       "      <th>status</th>\n",
       "    </tr>\n",
       "  </thead>\n",
       "  <tbody>\n",
       "    <tr>\n",
       "      <th>0</th>\n",
       "      <td>16 May 2022</td>\n",
       "      <td>06 : 15 AM</td>\n",
       "      <td>TAXI DRIVER</td>\n",
       "      <td>0.76%</td>\n",
       "      <td>New Detection</td>\n",
       "    </tr>\n",
       "    <tr>\n",
       "      <th>1</th>\n",
       "      <td>16 May 2022</td>\n",
       "      <td>06 : 23 AM</td>\n",
       "      <td>TAXI DRIVER</td>\n",
       "      <td>0.76%</td>\n",
       "      <td>Passed Detection</td>\n",
       "    </tr>\n",
       "    <tr>\n",
       "      <th>2</th>\n",
       "      <td>16 May 2022</td>\n",
       "      <td>06 : 24 AM</td>\n",
       "      <td>TAXI DRIVER</td>\n",
       "      <td>0.76%</td>\n",
       "      <td>New Detection</td>\n",
       "    </tr>\n",
       "    <tr>\n",
       "      <th>3</th>\n",
       "      <td>18 May 2022</td>\n",
       "      <td>08 : 35 am</td>\n",
       "      <td>TAXI DRIVER</td>\n",
       "      <td>0.85%</td>\n",
       "      <td>Passed Detection</td>\n",
       "    </tr>\n",
       "    <tr>\n",
       "      <th>4</th>\n",
       "      <td>19 May 2022</td>\n",
       "      <td>03 : 54 am</td>\n",
       "      <td>TAXI DRIVER</td>\n",
       "      <td>0.81%</td>\n",
       "      <td>Passed Detection</td>\n",
       "    </tr>\n",
       "    <tr>\n",
       "      <th>5</th>\n",
       "      <td>19 May 2022</td>\n",
       "      <td>05 : 39 am</td>\n",
       "      <td>TAXI DRIVER</td>\n",
       "      <td>0.83%</td>\n",
       "      <td>New Detection</td>\n",
       "    </tr>\n",
       "    <tr>\n",
       "      <th>6</th>\n",
       "      <td>19 May 2022</td>\n",
       "      <td>05 : 45 AM</td>\n",
       "      <td>TAXI DRIVER</td>\n",
       "      <td>0.83%</td>\n",
       "      <td>New Detection</td>\n",
       "    </tr>\n",
       "  </tbody>\n",
       "</table>\n",
       "</div>"
      ],
      "text/plain": [
       "          date        hour         type confidence            status\n",
       "0  16 May 2022  06 : 15 AM  TAXI DRIVER      0.76%     New Detection\n",
       "1  16 May 2022  06 : 23 AM  TAXI DRIVER      0.76%  Passed Detection\n",
       "2  16 May 2022  06 : 24 AM  TAXI DRIVER      0.76%     New Detection\n",
       "3  18 May 2022  08 : 35 am  TAXI DRIVER      0.85%  Passed Detection\n",
       "4  19 May 2022  03 : 54 am  TAXI DRIVER      0.81%  Passed Detection\n",
       "5  19 May 2022  05 : 39 am  TAXI DRIVER      0.83%     New Detection\n",
       "6  19 May 2022  05 : 45 AM  TAXI DRIVER      0.83%     New Detection"
      ]
     },
     "execution_count": 36,
     "metadata": {},
     "output_type": "execute_result"
    }
   ],
   "source": [
    "db"
   ]
  },
  {
   "cell_type": "code",
   "execution_count": 37,
   "metadata": {},
   "outputs": [
    {
     "data": {
      "text/plain": [
       "7"
      ]
     },
     "execution_count": 37,
     "metadata": {},
     "output_type": "execute_result"
    }
   ],
   "source": []
  },
  {
   "cell_type": "code",
   "execution_count": 3,
   "metadata": {},
   "outputs": [],
   "source": [
    "import pandas as pd"
   ]
  },
  {
   "cell_type": "code",
   "execution_count": 4,
   "metadata": {},
   "outputs": [],
   "source": [
    "db = pd.read_csv(\"test.csv\")"
   ]
  },
  {
   "cell_type": "code",
   "execution_count": 5,
   "metadata": {},
   "outputs": [
    {
     "data": {
      "text/html": [
       "<div>\n",
       "<style scoped>\n",
       "    .dataframe tbody tr th:only-of-type {\n",
       "        vertical-align: middle;\n",
       "    }\n",
       "\n",
       "    .dataframe tbody tr th {\n",
       "        vertical-align: top;\n",
       "    }\n",
       "\n",
       "    .dataframe thead th {\n",
       "        text-align: right;\n",
       "    }\n",
       "</style>\n",
       "<table border=\"1\" class=\"dataframe\">\n",
       "  <thead>\n",
       "    <tr style=\"text-align: right;\">\n",
       "      <th></th>\n",
       "      <th>date</th>\n",
       "      <th>hour</th>\n",
       "      <th>type</th>\n",
       "      <th>confidence</th>\n",
       "      <th>status</th>\n",
       "    </tr>\n",
       "  </thead>\n",
       "  <tbody>\n",
       "    <tr>\n",
       "      <th>0</th>\n",
       "      <td>16 May 2022</td>\n",
       "      <td>06 : 15 AM</td>\n",
       "      <td>TAXI DRIVER</td>\n",
       "      <td>0.76%</td>\n",
       "      <td>New Detection</td>\n",
       "    </tr>\n",
       "    <tr>\n",
       "      <th>1</th>\n",
       "      <td>16 May 2022</td>\n",
       "      <td>06 : 23 AM</td>\n",
       "      <td>TAXI DRIVER</td>\n",
       "      <td>0.76%</td>\n",
       "      <td>Passed Detection</td>\n",
       "    </tr>\n",
       "    <tr>\n",
       "      <th>2</th>\n",
       "      <td>16 May 2022</td>\n",
       "      <td>06 : 24 AM</td>\n",
       "      <td>TAXI DRIVER</td>\n",
       "      <td>0.76%</td>\n",
       "      <td>New Detection</td>\n",
       "    </tr>\n",
       "    <tr>\n",
       "      <th>3</th>\n",
       "      <td>18 May 2022</td>\n",
       "      <td>08 : 35 am</td>\n",
       "      <td>TAXI DRIVER</td>\n",
       "      <td>0.85%</td>\n",
       "      <td>Passed Detection</td>\n",
       "    </tr>\n",
       "    <tr>\n",
       "      <th>4</th>\n",
       "      <td>19 May 2022</td>\n",
       "      <td>03 : 54 am</td>\n",
       "      <td>TAXI DRIVER</td>\n",
       "      <td>0.81%</td>\n",
       "      <td>Passed Detection</td>\n",
       "    </tr>\n",
       "    <tr>\n",
       "      <th>5</th>\n",
       "      <td>19 May 2022</td>\n",
       "      <td>05 : 39 am</td>\n",
       "      <td>TAXI DRIVER</td>\n",
       "      <td>0.83%</td>\n",
       "      <td>New Detection</td>\n",
       "    </tr>\n",
       "    <tr>\n",
       "      <th>6</th>\n",
       "      <td>19 May 2022</td>\n",
       "      <td>05 : 45 AM</td>\n",
       "      <td>TAXI DRIVER</td>\n",
       "      <td>0.83%</td>\n",
       "      <td>New Detection</td>\n",
       "    </tr>\n",
       "    <tr>\n",
       "      <th>7</th>\n",
       "      <td>19 May 2022</td>\n",
       "      <td>03 : 54 am</td>\n",
       "      <td>TAXI DRIVER</td>\n",
       "      <td>0.81%</td>\n",
       "      <td>Passed Detection</td>\n",
       "    </tr>\n",
       "    <tr>\n",
       "      <th>8</th>\n",
       "      <td>19 May 2022</td>\n",
       "      <td>08 : 24 AM</td>\n",
       "      <td>TAXI DRIVER</td>\n",
       "      <td>0.84%</td>\n",
       "      <td>New Detection</td>\n",
       "    </tr>\n",
       "    <tr>\n",
       "      <th>9</th>\n",
       "      <td>19 May 2022</td>\n",
       "      <td>08 : 39 AM</td>\n",
       "      <td>TAXI DRIVER</td>\n",
       "      <td>0.84%</td>\n",
       "      <td>Passed Detection</td>\n",
       "    </tr>\n",
       "    <tr>\n",
       "      <th>10</th>\n",
       "      <td>19 May 2022</td>\n",
       "      <td>08 : 25 AM</td>\n",
       "      <td>TAXI DRIVER</td>\n",
       "      <td>0.84%</td>\n",
       "      <td>New Detection</td>\n",
       "    </tr>\n",
       "    <tr>\n",
       "      <th>11</th>\n",
       "      <td>19 May 2022</td>\n",
       "      <td>08 : 40 AM</td>\n",
       "      <td>TAXI DRIVER</td>\n",
       "      <td>0.84%</td>\n",
       "      <td>Passed Detection</td>\n",
       "    </tr>\n",
       "    <tr>\n",
       "      <th>12</th>\n",
       "      <td>19 May 2022</td>\n",
       "      <td>08 : 26 AM</td>\n",
       "      <td>TAXI DRIVER</td>\n",
       "      <td>0.84%</td>\n",
       "      <td>New Detection</td>\n",
       "    </tr>\n",
       "    <tr>\n",
       "      <th>13</th>\n",
       "      <td>19 May 2022</td>\n",
       "      <td>08 : 41 AM</td>\n",
       "      <td>TAXI DRIVER</td>\n",
       "      <td>0.84%</td>\n",
       "      <td>Passed Detection</td>\n",
       "    </tr>\n",
       "    <tr>\n",
       "      <th>14</th>\n",
       "      <td>19 May 2022</td>\n",
       "      <td>08 : 26 AM</td>\n",
       "      <td>TAXI DRIVER</td>\n",
       "      <td>0.84%</td>\n",
       "      <td>New Detection</td>\n",
       "    </tr>\n",
       "    <tr>\n",
       "      <th>15</th>\n",
       "      <td>19 May 2022</td>\n",
       "      <td>08 : 41 AM</td>\n",
       "      <td>TAXI DRIVER</td>\n",
       "      <td>0.84%</td>\n",
       "      <td>Passed Detection</td>\n",
       "    </tr>\n",
       "  </tbody>\n",
       "</table>\n",
       "</div>"
      ],
      "text/plain": [
       "           date        hour         type confidence            status\n",
       "0   16 May 2022  06 : 15 AM  TAXI DRIVER      0.76%     New Detection\n",
       "1   16 May 2022  06 : 23 AM  TAXI DRIVER      0.76%  Passed Detection\n",
       "2   16 May 2022  06 : 24 AM  TAXI DRIVER      0.76%     New Detection\n",
       "3   18 May 2022  08 : 35 am  TAXI DRIVER      0.85%  Passed Detection\n",
       "4   19 May 2022  03 : 54 am  TAXI DRIVER      0.81%  Passed Detection\n",
       "5   19 May 2022  05 : 39 am  TAXI DRIVER      0.83%     New Detection\n",
       "6   19 May 2022  05 : 45 AM  TAXI DRIVER      0.83%     New Detection\n",
       "7   19 May 2022  03 : 54 am  TAXI DRIVER      0.81%  Passed Detection\n",
       "8   19 May 2022  08 : 24 AM  TAXI DRIVER      0.84%     New Detection\n",
       "9   19 May 2022  08 : 39 AM  TAXI DRIVER      0.84%  Passed Detection\n",
       "10  19 May 2022  08 : 25 AM  TAXI DRIVER      0.84%     New Detection\n",
       "11  19 May 2022  08 : 40 AM  TAXI DRIVER      0.84%  Passed Detection\n",
       "12  19 May 2022  08 : 26 AM  TAXI DRIVER      0.84%     New Detection\n",
       "13  19 May 2022  08 : 41 AM  TAXI DRIVER      0.84%  Passed Detection\n",
       "14  19 May 2022  08 : 26 AM  TAXI DRIVER      0.84%     New Detection\n",
       "15  19 May 2022  08 : 41 AM  TAXI DRIVER      0.84%  Passed Detection"
      ]
     },
     "execution_count": 5,
     "metadata": {},
     "output_type": "execute_result"
    }
   ],
   "source": [
    "db"
   ]
  },
  {
   "cell_type": "code",
   "execution_count": null,
   "metadata": {},
   "outputs": [],
   "source": []
  }
 ],
 "metadata": {
  "interpreter": {
   "hash": "916dbcbb3f70747c44a77c7bcd40155683ae19c65e1c03b4aa3499c5328201f1"
  },
  "kernelspec": {
   "display_name": "Python 3.8.10 64-bit",
   "language": "python",
   "name": "python3"
  },
  "language_info": {
   "codemirror_mode": {
    "name": "ipython",
    "version": 3
   },
   "file_extension": ".py",
   "mimetype": "text/x-python",
   "name": "python",
   "nbconvert_exporter": "python",
   "pygments_lexer": "ipython3",
   "version": "3.8.10"
  },
  "orig_nbformat": 4
 },
 "nbformat": 4,
 "nbformat_minor": 2
}
