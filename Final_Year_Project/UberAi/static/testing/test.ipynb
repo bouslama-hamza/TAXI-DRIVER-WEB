{
 "cells": [
  {
   "cell_type": "code",
   "execution_count": null,
   "metadata": {},
   "outputs": [],
   "source": []
  },
  {
   "cell_type": "code",
   "execution_count": 118,
   "metadata": {},
   "outputs": [],
   "source": [
    "db = pd.read_csv(\"test.csv\")"
   ]
  },
  {
   "cell_type": "code",
   "execution_count": 119,
   "metadata": {},
   "outputs": [
    {
     "data": {
      "text/html": [
       "<div>\n",
       "<style scoped>\n",
       "    .dataframe tbody tr th:only-of-type {\n",
       "        vertical-align: middle;\n",
       "    }\n",
       "\n",
       "    .dataframe tbody tr th {\n",
       "        vertical-align: top;\n",
       "    }\n",
       "\n",
       "    .dataframe thead th {\n",
       "        text-align: right;\n",
       "    }\n",
       "</style>\n",
       "<table border=\"1\" class=\"dataframe\">\n",
       "  <thead>\n",
       "    <tr style=\"text-align: right;\">\n",
       "      <th></th>\n",
       "      <th>date</th>\n",
       "      <th>hour</th>\n",
       "      <th>type</th>\n",
       "      <th>confidence</th>\n",
       "      <th>status</th>\n",
       "    </tr>\n",
       "  </thead>\n",
       "  <tbody>\n",
       "    <tr>\n",
       "      <th>0</th>\n",
       "      <td>16 May 2022</td>\n",
       "      <td>06 : 15 AM</td>\n",
       "      <td>TAXI DRIVER</td>\n",
       "      <td>0.76%</td>\n",
       "      <td>New Detection</td>\n",
       "    </tr>\n",
       "    <tr>\n",
       "      <th>1</th>\n",
       "      <td>16 May 2022</td>\n",
       "      <td>06 : 23 AM</td>\n",
       "      <td>TAXI DRIVER</td>\n",
       "      <td>0.76%</td>\n",
       "      <td>Passed Detection</td>\n",
       "    </tr>\n",
       "    <tr>\n",
       "      <th>2</th>\n",
       "      <td>16 May 2022</td>\n",
       "      <td>06 : 24 AM</td>\n",
       "      <td>TAXI DRIVER</td>\n",
       "      <td>0.76%</td>\n",
       "      <td>New Detection</td>\n",
       "    </tr>\n",
       "    <tr>\n",
       "      <th>3</th>\n",
       "      <td>18 May 2022</td>\n",
       "      <td>08 : 35 am</td>\n",
       "      <td>TAXI DRIVER</td>\n",
       "      <td>0.85%</td>\n",
       "      <td>Passed Detection</td>\n",
       "    </tr>\n",
       "    <tr>\n",
       "      <th>4</th>\n",
       "      <td>19 May 2022</td>\n",
       "      <td>03 : 54 am</td>\n",
       "      <td>TAXI DRIVER</td>\n",
       "      <td>0.81%</td>\n",
       "      <td>Passed Detection</td>\n",
       "    </tr>\n",
       "    <tr>\n",
       "      <th>5</th>\n",
       "      <td>19 May 2022</td>\n",
       "      <td>05 : 39 am</td>\n",
       "      <td>TAXI DRIVER</td>\n",
       "      <td>0.83%</td>\n",
       "      <td>New Detection</td>\n",
       "    </tr>\n",
       "    <tr>\n",
       "      <th>6</th>\n",
       "      <td>19 May 2022</td>\n",
       "      <td>05 : 45 AM</td>\n",
       "      <td>TAXI DRIVER</td>\n",
       "      <td>0.83%</td>\n",
       "      <td>New Detection</td>\n",
       "    </tr>\n",
       "    <tr>\n",
       "      <th>7</th>\n",
       "      <td>19 May 2022</td>\n",
       "      <td>03 : 54 am</td>\n",
       "      <td>TAXI DRIVER</td>\n",
       "      <td>0.81%</td>\n",
       "      <td>Passed Detection</td>\n",
       "    </tr>\n",
       "    <tr>\n",
       "      <th>8</th>\n",
       "      <td>19 May 2022</td>\n",
       "      <td>08 : 24 AM</td>\n",
       "      <td>TAXI DRIVER</td>\n",
       "      <td>0.84%</td>\n",
       "      <td>New Detection</td>\n",
       "    </tr>\n",
       "    <tr>\n",
       "      <th>9</th>\n",
       "      <td>19 May 2022</td>\n",
       "      <td>08 : 39 AM</td>\n",
       "      <td>TAXI DRIVER</td>\n",
       "      <td>0.84%</td>\n",
       "      <td>Passed Detection</td>\n",
       "    </tr>\n",
       "    <tr>\n",
       "      <th>10</th>\n",
       "      <td>19 May 2022</td>\n",
       "      <td>08 : 25 AM</td>\n",
       "      <td>TAXI DRIVER</td>\n",
       "      <td>0.84%</td>\n",
       "      <td>New Detection</td>\n",
       "    </tr>\n",
       "    <tr>\n",
       "      <th>11</th>\n",
       "      <td>19 May 2022</td>\n",
       "      <td>08 : 40 AM</td>\n",
       "      <td>TAXI DRIVER</td>\n",
       "      <td>0.84%</td>\n",
       "      <td>Passed Detection</td>\n",
       "    </tr>\n",
       "    <tr>\n",
       "      <th>12</th>\n",
       "      <td>19 May 2022</td>\n",
       "      <td>08 : 26 AM</td>\n",
       "      <td>TAXI DRIVER</td>\n",
       "      <td>0.84%</td>\n",
       "      <td>New Detection</td>\n",
       "    </tr>\n",
       "    <tr>\n",
       "      <th>13</th>\n",
       "      <td>19 May 2022</td>\n",
       "      <td>08 : 41 AM</td>\n",
       "      <td>TAXI DRIVER</td>\n",
       "      <td>0.84%</td>\n",
       "      <td>Passed Detection</td>\n",
       "    </tr>\n",
       "    <tr>\n",
       "      <th>14</th>\n",
       "      <td>19 May 2022</td>\n",
       "      <td>08 : 26 AM</td>\n",
       "      <td>TAXI DRIVER</td>\n",
       "      <td>0.84%</td>\n",
       "      <td>New Detection</td>\n",
       "    </tr>\n",
       "    <tr>\n",
       "      <th>15</th>\n",
       "      <td>19 May 2022</td>\n",
       "      <td>08 : 41 AM</td>\n",
       "      <td>TAXI DRIVER</td>\n",
       "      <td>0.84%</td>\n",
       "      <td>Passed Detection</td>\n",
       "    </tr>\n",
       "  </tbody>\n",
       "</table>\n",
       "</div>"
      ],
      "text/plain": [
       "           date        hour         type confidence            status\n",
       "0   16 May 2022  06 : 15 AM  TAXI DRIVER      0.76%     New Detection\n",
       "1   16 May 2022  06 : 23 AM  TAXI DRIVER      0.76%  Passed Detection\n",
       "2   16 May 2022  06 : 24 AM  TAXI DRIVER      0.76%     New Detection\n",
       "3   18 May 2022  08 : 35 am  TAXI DRIVER      0.85%  Passed Detection\n",
       "4   19 May 2022  03 : 54 am  TAXI DRIVER      0.81%  Passed Detection\n",
       "5   19 May 2022  05 : 39 am  TAXI DRIVER      0.83%     New Detection\n",
       "6   19 May 2022  05 : 45 AM  TAXI DRIVER      0.83%     New Detection\n",
       "7   19 May 2022  03 : 54 am  TAXI DRIVER      0.81%  Passed Detection\n",
       "8   19 May 2022  08 : 24 AM  TAXI DRIVER      0.84%     New Detection\n",
       "9   19 May 2022  08 : 39 AM  TAXI DRIVER      0.84%  Passed Detection\n",
       "10  19 May 2022  08 : 25 AM  TAXI DRIVER      0.84%     New Detection\n",
       "11  19 May 2022  08 : 40 AM  TAXI DRIVER      0.84%  Passed Detection\n",
       "12  19 May 2022  08 : 26 AM  TAXI DRIVER      0.84%     New Detection\n",
       "13  19 May 2022  08 : 41 AM  TAXI DRIVER      0.84%  Passed Detection\n",
       "14  19 May 2022  08 : 26 AM  TAXI DRIVER      0.84%     New Detection\n",
       "15  19 May 2022  08 : 41 AM  TAXI DRIVER      0.84%  Passed Detection"
      ]
     },
     "execution_count": 119,
     "metadata": {},
     "output_type": "execute_result"
    }
   ],
   "source": [
    "db"
   ]
  },
  {
   "cell_type": "code",
   "execution_count": 120,
   "metadata": {},
   "outputs": [
    {
     "name": "stdout",
     "output_type": "stream",
     "text": [
      "16 May 2022\n",
      "16 May 2022\n",
      "16 May 2022\n",
      "18 May 2022\n",
      "19 May 2022\n",
      "19 May 2022\n",
      "19 May 2022\n",
      "19 May 2022\n",
      "19 May 2022\n",
      "19 May 2022\n",
      "19 May 2022\n",
      "19 May 2022\n",
      "19 May 2022\n",
      "19 May 2022\n",
      "19 May 2022\n",
      "19 May 2022\n"
     ]
    }
   ],
   "source": [
    "for row in db.iterrows():\n",
    "    print(row[1]['date'])"
   ]
  },
  {
   "cell_type": "code",
   "execution_count": 121,
   "metadata": {},
   "outputs": [],
   "source": [
    "latest = db['status'].value_counts()"
   ]
  },
  {
   "cell_type": "code",
   "execution_count": 122,
   "metadata": {},
   "outputs": [
    {
     "data": {
      "text/plain": [
       "Passed Detection    8\n",
       "New Detection       8\n",
       "Name: status, dtype: int64"
      ]
     },
     "execution_count": 122,
     "metadata": {},
     "output_type": "execute_result"
    }
   ],
   "source": [
    "latest"
   ]
  },
  {
   "cell_type": "code",
   "execution_count": 123,
   "metadata": {},
   "outputs": [
    {
     "data": {
      "text/plain": [
       "8"
      ]
     },
     "execution_count": 123,
     "metadata": {},
     "output_type": "execute_result"
    }
   ],
   "source": [
    "latest['Passed Detection']"
   ]
  },
  {
   "cell_type": "code",
   "execution_count": 124,
   "metadata": {},
   "outputs": [
    {
     "data": {
      "text/plain": [
       "8"
      ]
     },
     "execution_count": 124,
     "metadata": {},
     "output_type": "execute_result"
    }
   ],
   "source": [
    "latest['New Detection']"
   ]
  },
  {
   "cell_type": "code",
   "execution_count": 125,
   "metadata": {},
   "outputs": [
    {
     "data": {
      "text/plain": [
       "0"
      ]
     },
     "execution_count": 125,
     "metadata": {},
     "output_type": "execute_result"
    }
   ],
   "source": [
    "latest['New Detection'] - latest['Passed Detection']"
   ]
  },
  {
   "cell_type": "code",
   "execution_count": 126,
   "metadata": {},
   "outputs": [],
   "source": [
    "test = db.iloc[[-1]]['confidence']"
   ]
  },
  {
   "cell_type": "code",
   "execution_count": null,
   "metadata": {},
   "outputs": [],
   "source": [
    "\n",
    "    "
   ]
  },
  {
   "cell_type": "code",
   "execution_count": 127,
   "metadata": {},
   "outputs": [
    {
     "name": "stdout",
     "output_type": "stream",
     "text": [
      "0.84\n"
     ]
    }
   ],
   "source": [
    "for row in db.iloc[[-1]].iterrows():\n",
    "    print(row[1]['confidence'].split(\"%\")[0])"
   ]
  },
  {
   "cell_type": "code",
   "execution_count": 128,
   "metadata": {},
   "outputs": [
    {
     "ename": "TypeError",
     "evalue": "'generator' object is not subscriptable",
     "output_type": "error",
     "traceback": [
      "\u001b[0;31m---------------------------------------------------------------------------\u001b[0m",
      "\u001b[0;31mTypeError\u001b[0m                                 Traceback (most recent call last)",
      "\u001b[0;32m<ipython-input-128-d5f37dd73019>\u001b[0m in \u001b[0;36m<module>\u001b[0;34m\u001b[0m\n\u001b[0;32m----> 1\u001b[0;31m \u001b[0mdb\u001b[0m\u001b[0;34m.\u001b[0m\u001b[0miloc\u001b[0m\u001b[0;34m[\u001b[0m\u001b[0;34m[\u001b[0m\u001b[0;34m-\u001b[0m\u001b[0;36m1\u001b[0m\u001b[0;34m]\u001b[0m\u001b[0;34m]\u001b[0m\u001b[0;34m.\u001b[0m\u001b[0miterrows\u001b[0m\u001b[0;34m(\u001b[0m\u001b[0;34m)\u001b[0m\u001b[0;34m[\u001b[0m\u001b[0;34m'confidence'\u001b[0m\u001b[0;34m]\u001b[0m\u001b[0;34m\u001b[0m\u001b[0;34m\u001b[0m\u001b[0m\n\u001b[0m",
      "\u001b[0;31mTypeError\u001b[0m: 'generator' object is not subscriptable"
     ]
    }
   ],
   "source": [
    "db.iloc[[-1]].iterrows()['confidence']"
   ]
  },
  {
   "cell_type": "code",
   "execution_count": null,
   "metadata": {},
   "outputs": [
    {
     "data": {
      "text/html": [
       "<div>\n",
       "<style scoped>\n",
       "    .dataframe tbody tr th:only-of-type {\n",
       "        vertical-align: middle;\n",
       "    }\n",
       "\n",
       "    .dataframe tbody tr th {\n",
       "        vertical-align: top;\n",
       "    }\n",
       "\n",
       "    .dataframe thead th {\n",
       "        text-align: right;\n",
       "    }\n",
       "</style>\n",
       "<table border=\"1\" class=\"dataframe\">\n",
       "  <thead>\n",
       "    <tr style=\"text-align: right;\">\n",
       "      <th></th>\n",
       "      <th>date</th>\n",
       "      <th>hour</th>\n",
       "      <th>type</th>\n",
       "      <th>confidence</th>\n",
       "      <th>status</th>\n",
       "    </tr>\n",
       "  </thead>\n",
       "  <tbody>\n",
       "    <tr>\n",
       "      <th>0</th>\n",
       "      <td>16 May 2022</td>\n",
       "      <td>06 : 15 AM</td>\n",
       "      <td>TAXI DRIVER</td>\n",
       "      <td>0.76%</td>\n",
       "      <td>New Detection</td>\n",
       "    </tr>\n",
       "    <tr>\n",
       "      <th>1</th>\n",
       "      <td>16 May 2022</td>\n",
       "      <td>06 : 23 AM</td>\n",
       "      <td>TAXI DRIVER</td>\n",
       "      <td>0.76%</td>\n",
       "      <td>Passed Detection</td>\n",
       "    </tr>\n",
       "    <tr>\n",
       "      <th>2</th>\n",
       "      <td>16 May 2022</td>\n",
       "      <td>06 : 24 AM</td>\n",
       "      <td>TAXI DRIVER</td>\n",
       "      <td>0.76%</td>\n",
       "      <td>New Detection</td>\n",
       "    </tr>\n",
       "    <tr>\n",
       "      <th>3</th>\n",
       "      <td>18 May 2022</td>\n",
       "      <td>08 : 35 am</td>\n",
       "      <td>TAXI DRIVER</td>\n",
       "      <td>0.85%</td>\n",
       "      <td>Passed Detection</td>\n",
       "    </tr>\n",
       "    <tr>\n",
       "      <th>4</th>\n",
       "      <td>19 May 2022</td>\n",
       "      <td>03 : 54 am</td>\n",
       "      <td>TAXI DRIVER</td>\n",
       "      <td>0.81%</td>\n",
       "      <td>Passed Detection</td>\n",
       "    </tr>\n",
       "    <tr>\n",
       "      <th>5</th>\n",
       "      <td>19 May 2022</td>\n",
       "      <td>05 : 39 am</td>\n",
       "      <td>TAXI DRIVER</td>\n",
       "      <td>0.83%</td>\n",
       "      <td>New Detection</td>\n",
       "    </tr>\n",
       "    <tr>\n",
       "      <th>6</th>\n",
       "      <td>19 May 2022</td>\n",
       "      <td>05 : 45 AM</td>\n",
       "      <td>TAXI DRIVER</td>\n",
       "      <td>0.83%</td>\n",
       "      <td>New Detection</td>\n",
       "    </tr>\n",
       "  </tbody>\n",
       "</table>\n",
       "</div>"
      ],
      "text/plain": [
       "          date        hour         type confidence            status\n",
       "0  16 May 2022  06 : 15 AM  TAXI DRIVER      0.76%     New Detection\n",
       "1  16 May 2022  06 : 23 AM  TAXI DRIVER      0.76%  Passed Detection\n",
       "2  16 May 2022  06 : 24 AM  TAXI DRIVER      0.76%     New Detection\n",
       "3  18 May 2022  08 : 35 am  TAXI DRIVER      0.85%  Passed Detection\n",
       "4  19 May 2022  03 : 54 am  TAXI DRIVER      0.81%  Passed Detection\n",
       "5  19 May 2022  05 : 39 am  TAXI DRIVER      0.83%     New Detection\n",
       "6  19 May 2022  05 : 45 AM  TAXI DRIVER      0.83%     New Detection"
      ]
     },
     "execution_count": 36,
     "metadata": {},
     "output_type": "execute_result"
    }
   ],
   "source": [
    "db"
   ]
  },
  {
   "cell_type": "code",
   "execution_count": null,
   "metadata": {},
   "outputs": [
    {
     "data": {
      "text/plain": [
       "7"
      ]
     },
     "execution_count": 37,
     "metadata": {},
     "output_type": "execute_result"
    }
   ],
   "source": []
  },
  {
   "cell_type": "code",
   "execution_count": null,
   "metadata": {},
   "outputs": [],
   "source": [
    "import pandas as pd"
   ]
  },
  {
   "cell_type": "code",
   "execution_count": null,
   "metadata": {},
   "outputs": [],
   "source": [
    "db = pd.read_csv(\"test.csv\")"
   ]
  },
  {
   "cell_type": "code",
   "execution_count": null,
   "metadata": {},
   "outputs": [
    {
     "ename": "ValueError",
     "evalue": "time data '09 : 58' does not match format '%H:%M'",
     "output_type": "error",
     "traceback": [
      "\u001b[0;31m---------------------------------------------------------------------------\u001b[0m",
      "\u001b[0;31mValueError\u001b[0m                                Traceback (most recent call last)",
      "\u001b[0;32m<ipython-input-113-5e0b10cccd31>\u001b[0m in \u001b[0;36m<module>\u001b[0;34m\u001b[0m\n\u001b[0;32m----> 1\u001b[0;31m \u001b[0mdate_time\u001b[0m \u001b[0;34m=\u001b[0m \u001b[0mdatetime\u001b[0m\u001b[0;34m.\u001b[0m\u001b[0mdatetime\u001b[0m\u001b[0;34m.\u001b[0m\u001b[0mstrptime\u001b[0m\u001b[0;34m(\u001b[0m\u001b[0mdatetime\u001b[0m\u001b[0;34m.\u001b[0m\u001b[0mdatetime\u001b[0m\u001b[0;34m.\u001b[0m\u001b[0mnow\u001b[0m\u001b[0;34m(\u001b[0m\u001b[0;34m)\u001b[0m\u001b[0;34m.\u001b[0m\u001b[0mstrftime\u001b[0m\u001b[0;34m(\u001b[0m\u001b[0;34m\"%H : %M\"\u001b[0m\u001b[0;34m)\u001b[0m\u001b[0;34m,\u001b[0m \u001b[0;34m\"%H:%M\"\u001b[0m\u001b[0;34m)\u001b[0m\u001b[0;34m\u001b[0m\u001b[0;34m\u001b[0m\u001b[0m\n\u001b[0m",
      "\u001b[0;32m/usr/lib/python3.8/_strptime.py\u001b[0m in \u001b[0;36m_strptime_datetime\u001b[0;34m(cls, data_string, format)\u001b[0m\n\u001b[1;32m    566\u001b[0m     \"\"\"Return a class cls instance based on the input string and the\n\u001b[1;32m    567\u001b[0m     format string.\"\"\"\n\u001b[0;32m--> 568\u001b[0;31m     \u001b[0mtt\u001b[0m\u001b[0;34m,\u001b[0m \u001b[0mfraction\u001b[0m\u001b[0;34m,\u001b[0m \u001b[0mgmtoff_fraction\u001b[0m \u001b[0;34m=\u001b[0m \u001b[0m_strptime\u001b[0m\u001b[0;34m(\u001b[0m\u001b[0mdata_string\u001b[0m\u001b[0;34m,\u001b[0m \u001b[0mformat\u001b[0m\u001b[0;34m)\u001b[0m\u001b[0;34m\u001b[0m\u001b[0;34m\u001b[0m\u001b[0m\n\u001b[0m\u001b[1;32m    569\u001b[0m     \u001b[0mtzname\u001b[0m\u001b[0;34m,\u001b[0m \u001b[0mgmtoff\u001b[0m \u001b[0;34m=\u001b[0m \u001b[0mtt\u001b[0m\u001b[0;34m[\u001b[0m\u001b[0;34m-\u001b[0m\u001b[0;36m2\u001b[0m\u001b[0;34m:\u001b[0m\u001b[0;34m]\u001b[0m\u001b[0;34m\u001b[0m\u001b[0;34m\u001b[0m\u001b[0m\n\u001b[1;32m    570\u001b[0m     \u001b[0margs\u001b[0m \u001b[0;34m=\u001b[0m \u001b[0mtt\u001b[0m\u001b[0;34m[\u001b[0m\u001b[0;34m:\u001b[0m\u001b[0;36m6\u001b[0m\u001b[0;34m]\u001b[0m \u001b[0;34m+\u001b[0m \u001b[0;34m(\u001b[0m\u001b[0mfraction\u001b[0m\u001b[0;34m,\u001b[0m\u001b[0;34m)\u001b[0m\u001b[0;34m\u001b[0m\u001b[0;34m\u001b[0m\u001b[0m\n",
      "\u001b[0;32m/usr/lib/python3.8/_strptime.py\u001b[0m in \u001b[0;36m_strptime\u001b[0;34m(data_string, format)\u001b[0m\n\u001b[1;32m    347\u001b[0m     \u001b[0mfound\u001b[0m \u001b[0;34m=\u001b[0m \u001b[0mformat_regex\u001b[0m\u001b[0;34m.\u001b[0m\u001b[0mmatch\u001b[0m\u001b[0;34m(\u001b[0m\u001b[0mdata_string\u001b[0m\u001b[0;34m)\u001b[0m\u001b[0;34m\u001b[0m\u001b[0;34m\u001b[0m\u001b[0m\n\u001b[1;32m    348\u001b[0m     \u001b[0;32mif\u001b[0m \u001b[0;32mnot\u001b[0m \u001b[0mfound\u001b[0m\u001b[0;34m:\u001b[0m\u001b[0;34m\u001b[0m\u001b[0;34m\u001b[0m\u001b[0m\n\u001b[0;32m--> 349\u001b[0;31m         raise ValueError(\"time data %r does not match format %r\" %\n\u001b[0m\u001b[1;32m    350\u001b[0m                          (data_string, format))\n\u001b[1;32m    351\u001b[0m     \u001b[0;32mif\u001b[0m \u001b[0mlen\u001b[0m\u001b[0;34m(\u001b[0m\u001b[0mdata_string\u001b[0m\u001b[0;34m)\u001b[0m \u001b[0;34m!=\u001b[0m \u001b[0mfound\u001b[0m\u001b[0;34m.\u001b[0m\u001b[0mend\u001b[0m\u001b[0;34m(\u001b[0m\u001b[0;34m)\u001b[0m\u001b[0;34m:\u001b[0m\u001b[0;34m\u001b[0m\u001b[0;34m\u001b[0m\u001b[0m\n",
      "\u001b[0;31mValueError\u001b[0m: time data '09 : 58' does not match format '%H:%M'"
     ]
    }
   ],
   "source": [
    "\n",
    "date_time = datetime.datetime.strptime(datetime.datetime.now().strftime(\"%H : %M\"), \"%H:%M\")"
   ]
  },
  {
   "cell_type": "code",
   "execution_count": null,
   "metadata": {},
   "outputs": [
    {
     "data": {
      "text/html": [
       "<div>\n",
       "<style scoped>\n",
       "    .dataframe tbody tr th:only-of-type {\n",
       "        vertical-align: middle;\n",
       "    }\n",
       "\n",
       "    .dataframe tbody tr th {\n",
       "        vertical-align: top;\n",
       "    }\n",
       "\n",
       "    .dataframe thead th {\n",
       "        text-align: right;\n",
       "    }\n",
       "</style>\n",
       "<table border=\"1\" class=\"dataframe\">\n",
       "  <thead>\n",
       "    <tr style=\"text-align: right;\">\n",
       "      <th></th>\n",
       "      <th>date</th>\n",
       "      <th>hour</th>\n",
       "      <th>type</th>\n",
       "      <th>confidence</th>\n",
       "      <th>status</th>\n",
       "    </tr>\n",
       "  </thead>\n",
       "  <tbody>\n",
       "    <tr>\n",
       "      <th>0</th>\n",
       "      <td>16 May 2022</td>\n",
       "      <td>06 : 15 AM</td>\n",
       "      <td>TAXI DRIVER</td>\n",
       "      <td>0.76%</td>\n",
       "      <td>New Detection</td>\n",
       "    </tr>\n",
       "    <tr>\n",
       "      <th>1</th>\n",
       "      <td>16 May 2022</td>\n",
       "      <td>06 : 23 AM</td>\n",
       "      <td>TAXI DRIVER</td>\n",
       "      <td>0.76%</td>\n",
       "      <td>Passed Detection</td>\n",
       "    </tr>\n",
       "    <tr>\n",
       "      <th>2</th>\n",
       "      <td>16 May 2022</td>\n",
       "      <td>06 : 24 AM</td>\n",
       "      <td>TAXI DRIVER</td>\n",
       "      <td>0.76%</td>\n",
       "      <td>New Detection</td>\n",
       "    </tr>\n",
       "    <tr>\n",
       "      <th>3</th>\n",
       "      <td>18 May 2022</td>\n",
       "      <td>08 : 35 am</td>\n",
       "      <td>TAXI DRIVER</td>\n",
       "      <td>0.85%</td>\n",
       "      <td>Passed Detection</td>\n",
       "    </tr>\n",
       "    <tr>\n",
       "      <th>4</th>\n",
       "      <td>19 May 2022</td>\n",
       "      <td>03 : 54 am</td>\n",
       "      <td>TAXI DRIVER</td>\n",
       "      <td>0.81%</td>\n",
       "      <td>Passed Detection</td>\n",
       "    </tr>\n",
       "    <tr>\n",
       "      <th>5</th>\n",
       "      <td>19 May 2022</td>\n",
       "      <td>05 : 39 am</td>\n",
       "      <td>TAXI DRIVER</td>\n",
       "      <td>0.83%</td>\n",
       "      <td>New Detection</td>\n",
       "    </tr>\n",
       "    <tr>\n",
       "      <th>6</th>\n",
       "      <td>19 May 2022</td>\n",
       "      <td>05 : 45 AM</td>\n",
       "      <td>TAXI DRIVER</td>\n",
       "      <td>0.83%</td>\n",
       "      <td>New Detection</td>\n",
       "    </tr>\n",
       "    <tr>\n",
       "      <th>7</th>\n",
       "      <td>19 May 2022</td>\n",
       "      <td>03 : 54 am</td>\n",
       "      <td>TAXI DRIVER</td>\n",
       "      <td>0.81%</td>\n",
       "      <td>Passed Detection</td>\n",
       "    </tr>\n",
       "    <tr>\n",
       "      <th>8</th>\n",
       "      <td>19 May 2022</td>\n",
       "      <td>08 : 24 AM</td>\n",
       "      <td>TAXI DRIVER</td>\n",
       "      <td>0.84%</td>\n",
       "      <td>New Detection</td>\n",
       "    </tr>\n",
       "    <tr>\n",
       "      <th>9</th>\n",
       "      <td>19 May 2022</td>\n",
       "      <td>08 : 39 AM</td>\n",
       "      <td>TAXI DRIVER</td>\n",
       "      <td>0.84%</td>\n",
       "      <td>Passed Detection</td>\n",
       "    </tr>\n",
       "    <tr>\n",
       "      <th>10</th>\n",
       "      <td>19 May 2022</td>\n",
       "      <td>08 : 25 AM</td>\n",
       "      <td>TAXI DRIVER</td>\n",
       "      <td>0.84%</td>\n",
       "      <td>New Detection</td>\n",
       "    </tr>\n",
       "    <tr>\n",
       "      <th>11</th>\n",
       "      <td>19 May 2022</td>\n",
       "      <td>08 : 40 AM</td>\n",
       "      <td>TAXI DRIVER</td>\n",
       "      <td>0.84%</td>\n",
       "      <td>Passed Detection</td>\n",
       "    </tr>\n",
       "    <tr>\n",
       "      <th>12</th>\n",
       "      <td>19 May 2022</td>\n",
       "      <td>08 : 26 AM</td>\n",
       "      <td>TAXI DRIVER</td>\n",
       "      <td>0.84%</td>\n",
       "      <td>New Detection</td>\n",
       "    </tr>\n",
       "    <tr>\n",
       "      <th>13</th>\n",
       "      <td>19 May 2022</td>\n",
       "      <td>08 : 41 AM</td>\n",
       "      <td>TAXI DRIVER</td>\n",
       "      <td>0.84%</td>\n",
       "      <td>Passed Detection</td>\n",
       "    </tr>\n",
       "    <tr>\n",
       "      <th>14</th>\n",
       "      <td>19 May 2022</td>\n",
       "      <td>08 : 26 AM</td>\n",
       "      <td>TAXI DRIVER</td>\n",
       "      <td>0.84%</td>\n",
       "      <td>New Detection</td>\n",
       "    </tr>\n",
       "    <tr>\n",
       "      <th>15</th>\n",
       "      <td>19 May 2022</td>\n",
       "      <td>08 : 41 AM</td>\n",
       "      <td>TAXI DRIVER</td>\n",
       "      <td>0.84%</td>\n",
       "      <td>Passed Detection</td>\n",
       "    </tr>\n",
       "  </tbody>\n",
       "</table>\n",
       "</div>"
      ],
      "text/plain": [
       "           date        hour         type confidence            status\n",
       "0   16 May 2022  06 : 15 AM  TAXI DRIVER      0.76%     New Detection\n",
       "1   16 May 2022  06 : 23 AM  TAXI DRIVER      0.76%  Passed Detection\n",
       "2   16 May 2022  06 : 24 AM  TAXI DRIVER      0.76%     New Detection\n",
       "3   18 May 2022  08 : 35 am  TAXI DRIVER      0.85%  Passed Detection\n",
       "4   19 May 2022  03 : 54 am  TAXI DRIVER      0.81%  Passed Detection\n",
       "5   19 May 2022  05 : 39 am  TAXI DRIVER      0.83%     New Detection\n",
       "6   19 May 2022  05 : 45 AM  TAXI DRIVER      0.83%     New Detection\n",
       "7   19 May 2022  03 : 54 am  TAXI DRIVER      0.81%  Passed Detection\n",
       "8   19 May 2022  08 : 24 AM  TAXI DRIVER      0.84%     New Detection\n",
       "9   19 May 2022  08 : 39 AM  TAXI DRIVER      0.84%  Passed Detection\n",
       "10  19 May 2022  08 : 25 AM  TAXI DRIVER      0.84%     New Detection\n",
       "11  19 May 2022  08 : 40 AM  TAXI DRIVER      0.84%  Passed Detection\n",
       "12  19 May 2022  08 : 26 AM  TAXI DRIVER      0.84%     New Detection\n",
       "13  19 May 2022  08 : 41 AM  TAXI DRIVER      0.84%  Passed Detection\n",
       "14  19 May 2022  08 : 26 AM  TAXI DRIVER      0.84%     New Detection\n",
       "15  19 May 2022  08 : 41 AM  TAXI DRIVER      0.84%  Passed Detection"
      ]
     },
     "execution_count": 5,
     "metadata": {},
     "output_type": "execute_result"
    }
   ],
   "source": [
    "db"
   ]
  },
  {
   "cell_type": "code",
   "execution_count": null,
   "metadata": {},
   "outputs": [
    {
     "name": "stdout",
     "output_type": "stream",
     "text": [
      "3669.0\n"
     ]
    }
   ],
   "source": [
    "import datetime\n",
    "\n",
    "str(datetime.timedelta(hours=15))"
   ]
  },
  {
   "cell_type": "code",
   "execution_count": null,
   "metadata": {},
   "outputs": [
    {
     "name": "stdout",
     "output_type": "stream",
     "text": [
      "true\n"
     ]
    }
   ],
   "source": [
    "import datetime\n",
    "\n",
    "time = \"08:35\"\n",
    "time_two = \"08:15\"\n",
    "date_time = datetime.datetime.strptime(time, \"%H:%M\")\n",
    "date_timetwo = datetime.datetime.strptime(time_two, \"%H:%M\")\n",
    "\n",
    "if(date_time > date_timetwo):\n",
    "    print(\"true\")\n",
    "\n",
    "\n"
   ]
  },
  {
   "cell_type": "code",
   "execution_count": null,
   "metadata": {},
   "outputs": [
    {
     "data": {
      "text/plain": [
       "29100.0"
      ]
     },
     "execution_count": 42,
     "metadata": {},
     "output_type": "execute_result"
    }
   ],
   "source": []
  },
  {
   "cell_type": "code",
   "execution_count": null,
   "metadata": {},
   "outputs": [
    {
     "data": {
      "text/plain": [
       "'1:01:09'"
      ]
     },
     "execution_count": 7,
     "metadata": {},
     "output_type": "execute_result"
    }
   ],
   "source": [
    "str(datetime.timedelta(seconds=seconds))"
   ]
  },
  {
   "cell_type": "code",
   "execution_count": null,
   "metadata": {},
   "outputs": [
    {
     "name": "stdout",
     "output_type": "stream",
     "text": [
      "{'temp': 302.29, 'feels_like': 300.63, 'temp_min': 302.29, 'temp_max': 302.29, 'pressure': 1014, 'humidity': 10, 'sea_level': 1014, 'grnd_level': 921}\n"
     ]
    }
   ],
   "source": [
    "import requests, json\n",
    "BASE_URL = \"https://api.openweathermap.org/data/2.5/weather?\"\n",
    "URL = BASE_URL + \"q=khouribga&appid=b95aec434694dd2839ad0fd6810ef875\"\n",
    "response = requests.get(URL)\n",
    "\n",
    "if response.status_code == 200:\n",
    "    data = response.json()\n",
    "    print(data['main'])\n",
    "    weather = data['main']\n",
    "else:\n",
    "   print(\"Error in the HTTP request\")"
   ]
  },
  {
   "cell_type": "code",
   "execution_count": null,
   "metadata": {},
   "outputs": [
    {
     "name": "stdout",
     "output_type": "stream",
     "text": [
      "302.29\n",
      "300.63\n",
      "302.29\n",
      "302.29\n",
      "1014\n",
      "10\n",
      "1014\n",
      "921\n"
     ]
    }
   ],
   "source": [
    "for i in weather.values():\n",
    "    print(i)"
   ]
  },
  {
   "cell_type": "code",
   "execution_count": null,
   "metadata": {},
   "outputs": [],
   "source": [
    "import pandas as pd\n",
    "df = pd.read_csv(\"pridection.csv\")"
   ]
  },
  {
   "cell_type": "code",
   "execution_count": null,
   "metadata": {},
   "outputs": [
    {
     "name": "stdout",
     "output_type": "stream",
     "text": [
      "29554.0\n"
     ]
    }
   ],
   "source": [
    "for row in df.tail(1).iterrows():\n",
    "    print(row[1]['new_time'])"
   ]
  },
  {
   "cell_type": "code",
   "execution_count": null,
   "metadata": {},
   "outputs": [
    {
     "name": "stdout",
     "output_type": "stream",
     "text": [
      "4\n"
     ]
    }
   ],
   "source": [
    "from datetime import datetime\n",
    "\n",
    "print(datetime.today().weekday())\n"
   ]
  },
  {
   "cell_type": "code",
   "execution_count": null,
   "metadata": {},
   "outputs": [],
   "source": [
    "import numpy as np\n",
    "from sklearn.linear_model import LinearRegression"
   ]
  },
  {
   "cell_type": "code",
   "execution_count": null,
   "metadata": {},
   "outputs": [],
   "source": [
    "X = np.array(df[['day' , 'temp' , 'feels_like' , 'temp_min' , 'temp_max' , 'pressure' , 'humidity' , 'sea_level' ,'grnd_level' , 'last_time']])\n",
    "Y = np.array(df['new_time'])"
   ]
  },
  {
   "cell_type": "code",
   "execution_count": null,
   "metadata": {},
   "outputs": [],
   "source": [
    "model = LinearRegression()"
   ]
  },
  {
   "cell_type": "code",
   "execution_count": null,
   "metadata": {},
   "outputs": [
    {
     "data": {
      "text/plain": [
       "LinearRegression()"
      ]
     },
     "execution_count": 103,
     "metadata": {},
     "output_type": "execute_result"
    }
   ],
   "source": [
    "model.fit(X , Y)"
   ]
  },
  {
   "cell_type": "code",
   "execution_count": null,
   "metadata": {},
   "outputs": [],
   "source": [
    "X_new = np.array([[0,   302.29, 300.63, 302.29, 302.29, 1014,   10, 1014,   921,    29100]])"
   ]
  },
  {
   "cell_type": "code",
   "execution_count": null,
   "metadata": {},
   "outputs": [
    {
     "name": "stdout",
     "output_type": "stream",
     "text": [
      "[[0.0000e+00 3.0229e+02 3.0063e+02 3.0229e+02 3.0229e+02 1.0140e+03\n",
      "  1.0000e+01 1.0140e+03 9.2100e+02 2.9100e+04]]\n"
     ]
    }
   ],
   "source": [
    "print(X_new)"
   ]
  },
  {
   "cell_type": "code",
   "execution_count": null,
   "metadata": {},
   "outputs": [],
   "source": [
    "result = model.predict(X_new)"
   ]
  },
  {
   "cell_type": "code",
   "execution_count": null,
   "metadata": {},
   "outputs": [
    {
     "data": {
      "text/plain": [
       "array([29502.])"
      ]
     },
     "execution_count": 106,
     "metadata": {},
     "output_type": "execute_result"
    }
   ],
   "source": [
    "result"
   ]
  },
  {
   "cell_type": "code",
   "execution_count": null,
   "metadata": {},
   "outputs": [],
   "source": [
    "import datetime\n",
    "wil= str(datetime.timedelta(seconds=result[0])).split(\":\")"
   ]
  },
  {
   "cell_type": "code",
   "execution_count": null,
   "metadata": {},
   "outputs": [],
   "source": [
    "time = wil[0] + \":\" +wil[1] + \" \"+datetime.datetime.now().strftime(\"%p\")"
   ]
  },
  {
   "cell_type": "code",
   "execution_count": null,
   "metadata": {},
   "outputs": [
    {
     "data": {
      "text/plain": [
       "'8:11 AM'"
      ]
     },
     "execution_count": 98,
     "metadata": {},
     "output_type": "execute_result"
    }
   ],
   "source": [
    "time"
   ]
  },
  {
   "cell_type": "code",
   "execution_count": null,
   "metadata": {},
   "outputs": [],
   "source": [
    "new_time = '9:15 AM'"
   ]
  },
  {
   "cell_type": "code",
   "execution_count": null,
   "metadata": {},
   "outputs": [
    {
     "data": {
      "text/plain": [
       "['9:15', 'AM']"
      ]
     },
     "execution_count": 117,
     "metadata": {},
     "output_type": "execute_result"
    }
   ],
   "source": [
    "new_time.split(\" \")"
   ]
  },
  {
   "cell_type": "code",
   "execution_count": null,
   "metadata": {},
   "outputs": [
    {
     "ename": "TypeError",
     "evalue": "list indices must be integers or slices, not str",
     "output_type": "error",
     "traceback": [
      "\u001b[0;31m---------------------------------------------------------------------------\u001b[0m",
      "\u001b[0;31mTypeError\u001b[0m                                 Traceback (most recent call last)",
      "\u001b[0;32m<ipython-input-116-217bb0ba96ad>\u001b[0m in \u001b[0;36m<module>\u001b[0;34m\u001b[0m\n\u001b[0;32m----> 1\u001b[0;31m \u001b[0;34m\"\"\u001b[0m\u001b[0;34m.\u001b[0m\u001b[0mjoin\u001b[0m\u001b[0;34m(\u001b[0m\u001b[0mnew_time\u001b[0m\u001b[0;34m.\u001b[0m\u001b[0msplit\u001b[0m\u001b[0;34m(\u001b[0m\u001b[0;34m\":\"\u001b[0m\u001b[0;34m)\u001b[0m\u001b[0;34m[\u001b[0m\u001b[0;34m\"2\"\u001b[0m\u001b[0;34m]\u001b[0m\u001b[0;34m)\u001b[0m\u001b[0;34m\u001b[0m\u001b[0;34m\u001b[0m\u001b[0m\n\u001b[0m",
      "\u001b[0;31mTypeError\u001b[0m: list indices must be integers or slices, not str"
     ]
    }
   ],
   "source": [
    "\"\".join(new_time.split(\":\")[\"2\"])"
   ]
  },
  {
   "cell_type": "code",
   "execution_count": 1,
   "metadata": {},
   "outputs": [],
   "source": [
    "import pandas as pd"
   ]
  },
  {
   "cell_type": "code",
   "execution_count": 4,
   "metadata": {},
   "outputs": [],
   "source": [
    "db= pd.read_csv(\"../testing/test.csv\")"
   ]
  },
  {
   "cell_type": "code",
   "execution_count": 7,
   "metadata": {},
   "outputs": [],
   "source": [
    "for row in db.tail(1).iterrows():\n",
    "    result = row[1]['hour']"
   ]
  },
  {
   "cell_type": "code",
   "execution_count": 8,
   "metadata": {},
   "outputs": [
    {
     "data": {
      "text/plain": [
       "['00', ':', '17', 'AM']"
      ]
     },
     "execution_count": 8,
     "metadata": {},
     "output_type": "execute_result"
    }
   ],
   "source": [
    "result.split(\" \")"
   ]
  },
  {
   "cell_type": "code",
   "execution_count": 16,
   "metadata": {},
   "outputs": [],
   "source": [
    "data = result.split(\" \")[0]+\":\"+result.split(\" \")[2]"
   ]
  },
  {
   "cell_type": "code",
   "execution_count": 17,
   "metadata": {},
   "outputs": [
    {
     "data": {
      "text/plain": [
       "'00:17'"
      ]
     },
     "execution_count": 17,
     "metadata": {},
     "output_type": "execute_result"
    }
   ],
   "source": [
    "data"
   ]
  },
  {
   "cell_type": "code",
   "execution_count": 12,
   "metadata": {},
   "outputs": [],
   "source": [
    "import datetime"
   ]
  },
  {
   "cell_type": "code",
   "execution_count": 18,
   "metadata": {},
   "outputs": [
    {
     "data": {
      "text/plain": [
       "datetime.datetime(1900, 1, 1, 0, 17)"
      ]
     },
     "execution_count": 18,
     "metadata": {},
     "output_type": "execute_result"
    }
   ],
   "source": [
    "datetime.datetime.strptime(data, \"%H:%M\")"
   ]
  },
  {
   "cell_type": "code",
   "execution_count": 19,
   "metadata": {},
   "outputs": [],
   "source": [
    "date_time = datetime.datetime.strptime(datetime.datetime.now().strftime(\"%H:%M\"), \"%H:%M\")"
   ]
  },
  {
   "cell_type": "code",
   "execution_count": 20,
   "metadata": {},
   "outputs": [
    {
     "data": {
      "text/plain": [
       "datetime.datetime(1900, 1, 1, 10, 58)"
      ]
     },
     "execution_count": 20,
     "metadata": {},
     "output_type": "execute_result"
    }
   ],
   "source": [
    "date_time"
   ]
  },
  {
   "cell_type": "code",
   "execution_count": null,
   "metadata": {},
   "outputs": [],
   "source": []
  }
 ],
 "metadata": {
  "interpreter": {
   "hash": "916dbcbb3f70747c44a77c7bcd40155683ae19c65e1c03b4aa3499c5328201f1"
  },
  "kernelspec": {
   "display_name": "Python 3.8.10 64-bit",
   "language": "python",
   "name": "python3"
  },
  "language_info": {
   "codemirror_mode": {
    "name": "ipython",
    "version": 3
   },
   "file_extension": ".py",
   "mimetype": "text/x-python",
   "name": "python",
   "nbconvert_exporter": "python",
   "pygments_lexer": "ipython3",
   "version": "3.8.10"
  },
  "orig_nbformat": 4
 },
 "nbformat": 4,
 "nbformat_minor": 2
}
